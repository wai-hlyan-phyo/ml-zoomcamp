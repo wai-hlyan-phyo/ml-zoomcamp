{
 "cells": [
  {
   "cell_type": "code",
   "id": "bc42e4cb-357a-4f10-b563-234badcfe6b0",
   "metadata": {
    "ExecuteTime": {
     "end_time": "2025-09-28T04:35:47.311060Z",
     "start_time": "2025-09-28T04:35:47.307056Z"
    }
   },
   "source": [
    "import pandas as pd"
   ],
   "outputs": [],
   "execution_count": 128
  },
  {
   "cell_type": "code",
   "id": "4a509f10-ca2a-498b-aa47-0daf64508cec",
   "metadata": {
    "ExecuteTime": {
     "end_time": "2025-09-28T04:35:47.361896Z",
     "start_time": "2025-09-28T04:35:47.358255Z"
    }
   },
   "source": [
    "pd.__version__"
   ],
   "outputs": [
    {
     "data": {
      "text/plain": [
       "'2.3.2'"
      ]
     },
     "execution_count": 129,
     "metadata": {},
     "output_type": "execute_result"
    }
   ],
   "execution_count": 129
  },
  {
   "cell_type": "code",
   "id": "2c47222d-c5ee-4be5-a088-866efb913780",
   "metadata": {
    "ExecuteTime": {
     "end_time": "2025-09-28T04:35:47.412998Z",
     "start_time": "2025-09-28T04:35:47.410177Z"
    }
   },
   "source": "#!wget https://raw.githubusercontent.com/alexeygrigorev/datasets/master/car_fuel_efficiency.csv",
   "outputs": [],
   "execution_count": 130
  },
  {
   "cell_type": "code",
   "id": "f4c2eefb-078c-4dac-b362-ff029995a83e",
   "metadata": {
    "ExecuteTime": {
     "end_time": "2025-09-28T04:35:47.577674Z",
     "start_time": "2025-09-28T04:35:47.460595Z"
    }
   },
   "source": [
    "!ls"
   ],
   "outputs": [
    {
     "name": "stdout",
     "output_type": "stream",
     "text": [
      "car_fuel_efficiency.csv    car_fuel_efficiency.csv.3  numpy.ipynb\r\n",
      "car_fuel_efficiency.csv.1  car_fuel_efficiency.csv.4  Pipfile\r\n",
      "car_fuel_efficiency.csv.2  HW_Week-1.ipynb\t      Pipfile.lock\r\n"
     ]
    }
   ],
   "execution_count": 131
  },
  {
   "cell_type": "code",
   "id": "4174a3ff-cead-4166-85e4-ee9795e3b435",
   "metadata": {
    "ExecuteTime": {
     "end_time": "2025-09-28T04:35:47.627642Z",
     "start_time": "2025-09-28T04:35:47.595253Z"
    }
   },
   "source": "df = pd.read_csv( 'car_fuel_efficiency.csv' )",
   "outputs": [],
   "execution_count": 132
  },
  {
   "metadata": {
    "ExecuteTime": {
     "end_time": "2025-09-28T04:35:47.652012Z",
     "start_time": "2025-09-28T04:35:47.648022Z"
    }
   },
   "cell_type": "code",
   "source": "df.shape",
   "id": "4c2fb63412f52920",
   "outputs": [
    {
     "data": {
      "text/plain": [
       "(9704, 11)"
      ]
     },
     "execution_count": 133,
     "metadata": {},
     "output_type": "execute_result"
    }
   ],
   "execution_count": 133
  },
  {
   "metadata": {
    "ExecuteTime": {
     "end_time": "2025-09-28T04:35:47.703788Z",
     "start_time": "2025-09-28T04:35:47.699172Z"
    }
   },
   "cell_type": "code",
   "source": "df.fuel_type.nunique()",
   "id": "bbc7349d26f8f1e1",
   "outputs": [
    {
     "data": {
      "text/plain": [
       "2"
      ]
     },
     "execution_count": 134,
     "metadata": {},
     "output_type": "execute_result"
    }
   ],
   "execution_count": 134
  },
  {
   "metadata": {
    "ExecuteTime": {
     "end_time": "2025-09-28T04:35:47.775558Z",
     "start_time": "2025-09-28T04:35:47.752726Z"
    }
   },
   "cell_type": "code",
   "source": "df.isna().sum()",
   "id": "a4879193f479d8d6",
   "outputs": [
    {
     "data": {
      "text/plain": [
       "engine_displacement      0\n",
       "num_cylinders          482\n",
       "horsepower             708\n",
       "vehicle_weight           0\n",
       "acceleration           930\n",
       "model_year               0\n",
       "origin                   0\n",
       "fuel_type                0\n",
       "drivetrain               0\n",
       "num_doors              502\n",
       "fuel_efficiency_mpg      0\n",
       "dtype: int64"
      ]
     },
     "execution_count": 135,
     "metadata": {},
     "output_type": "execute_result"
    }
   ],
   "execution_count": 135
  },
  {
   "metadata": {
    "ExecuteTime": {
     "end_time": "2025-09-28T04:35:52.788327Z",
     "start_time": "2025-09-28T04:35:52.781371Z"
    }
   },
   "cell_type": "code",
   "source": "df[ df.origin == 'Asia' ].fuel_efficiency_mpg.max()",
   "id": "944805e58a19df65",
   "outputs": [
    {
     "data": {
      "text/plain": [
       "np.float64(23.759122836520497)"
      ]
     },
     "execution_count": 137,
     "metadata": {},
     "output_type": "execute_result"
    }
   ],
   "execution_count": 137
  },
  {
   "metadata": {
    "ExecuteTime": {
     "end_time": "2025-09-28T04:36:01.015936Z",
     "start_time": "2025-09-28T04:36:01.004370Z"
    }
   },
   "cell_type": "code",
   "source": [
    "# Convert to numeric because horsepower may contain '?'\n",
    "df[ \"horsepower\" ] = pd.to_numeric( df[ \"horsepower\" ], errors=\"coerce\" )\n",
    "\n",
    "median_before = df[ \"horsepower\" ].median()\n",
    "most_freq = df[ \"horsepower\" ].mode()[ 0 ]\n",
    "\n",
    "df[ \"horsepower\" ].fillna( most_freq, inplace=True )\n",
    "median_after = df[ \"horsepower\" ].median()\n",
    "\n",
    "print( \"Median before:\", median_before )\n",
    "print( \"Most frequent:\", most_freq )\n",
    "print( \"Median after:\", median_after )\n",
    "\n",
    "if median_after > median_before:\n",
    "  print( \"Yes, it increased\" )\n",
    "elif median_after < median_before:\n",
    "  print( \"Yes, it decreased\" )\n",
    "else:\n",
    "  print( \"No\" )\n"
   ],
   "id": "252925f689a1dc7e",
   "outputs": [
    {
     "name": "stdout",
     "output_type": "stream",
     "text": [
      "Median before: 149.0\n",
      "Most frequent: 152.0\n",
      "Median after: 152.0\n",
      "Yes, it increased\n"
     ]
    },
    {
     "name": "stderr",
     "output_type": "stream",
     "text": [
      "/tmp/ipykernel_41841/1623960053.py:7: FutureWarning: A value is trying to be set on a copy of a DataFrame or Series through chained assignment using an inplace method.\n",
      "The behavior will change in pandas 3.0. This inplace method will never work because the intermediate object on which we are setting values always behaves as a copy.\n",
      "\n",
      "For example, when doing 'df[col].method(value, inplace=True)', try using 'df.method({col: value}, inplace=True)' or df[col] = df[col].method(value) instead, to perform the operation inplace on the original object.\n",
      "\n",
      "\n",
      "  df[\"horsepower\"].fillna(most_freq, inplace=True)\n"
     ]
    }
   ],
   "execution_count": 138
  },
  {
   "metadata": {
    "ExecuteTime": {
     "end_time": "2025-09-28T05:04:31.172473Z",
     "start_time": "2025-09-28T05:04:31.136450Z"
    }
   },
   "cell_type": "code",
   "source": [
    "asia_cars = (df[ df.origin == 'Asia' ])[ [ 'model_year', 'vehicle_weight' ] ]\n",
    "print( \"Asia cars:\\n\", asia_cars.head() )\n",
    "\n",
    "# select the first 7 values from model_year\n",
    "X = asia_cars.head( 7 ).to_numpy()\n",
    "print( \"X:\\n\", X )\n",
    "\n",
    "XT = X.T\n",
    "print( \"XT:\\n\", XT )\n",
    "\n",
    "XTX = XT.dot( X )\n",
    "print( \"XTX:\\n\", XTX )\n",
    "\n",
    "import numpy as np\n",
    "\n",
    "XTX_inv = np.linalg.inv( XTX )\n",
    "print( \"XTX_inv:\\n\", XTX_inv )\n",
    "\n",
    "y = np.array( [ 1100, 1300, 800, 900, 1000, 1100, 1200 ] )\n",
    "\n",
    "w = (XTX_inv.dot( XT )).dot( y )\n",
    "print( \"w:\\n\", w )\n",
    "\n",
    "w.sum()\n"
   ],
   "id": "f7dbedfdcbf29e2c",
   "outputs": [
    {
     "name": "stdout",
     "output_type": "stream",
     "text": [
      "Asia cars:\n",
      "     model_year  vehicle_weight\n",
      "8         2016     2714.219310\n",
      "12        2010     2783.868974\n",
      "14        2007     3582.687368\n",
      "20        2011     2231.808142\n",
      "21        2016     2659.431451\n",
      "X:\n",
      " [[2016.         2714.21930965]\n",
      " [2010.         2783.86897424]\n",
      " [2007.         3582.68736772]\n",
      " [2011.         2231.8081416 ]\n",
      " [2016.         2659.43145076]\n",
      " [2014.         2844.22753389]\n",
      " [2019.         3761.99403819]]\n",
      "XT:\n",
      " [[2016.         2010.         2007.         2011.         2016.\n",
      "  2014.         2019.        ]\n",
      " [2714.21930965 2783.86897424 3582.68736772 2231.8081416  2659.43145076\n",
      "  2844.22753389 3761.99403819]]\n",
      "XTX:\n",
      " [[28373339.         41431216.5073268 ]\n",
      " [41431216.5073268  62248334.33150762]]\n",
      "XTX_inv:\n",
      " [[ 1.25380877e-06 -8.34509443e-07]\n",
      " [-8.34509443e-07  5.71497081e-07]]\n",
      "w:\n",
      " [0.5049067  0.01386421]\n"
     ]
    },
    {
     "data": {
      "text/plain": [
       "np.float64(0.5187709081074054)"
      ]
     },
     "execution_count": 166,
     "metadata": {},
     "output_type": "execute_result"
    }
   ],
   "execution_count": 166
  },
  {
   "metadata": {},
   "cell_type": "code",
   "outputs": [],
   "execution_count": null,
   "source": "",
   "id": "11f26d3388c0d1ea"
  }
 ],
 "metadata": {
  "kernelspec": {
   "display_name": "Python 3 (ipykernel)",
   "language": "python",
   "name": "python3"
  },
  "language_info": {
   "codemirror_mode": {
    "name": "ipython",
    "version": 3
   },
   "file_extension": ".py",
   "mimetype": "text/x-python",
   "name": "python",
   "nbconvert_exporter": "python",
   "pygments_lexer": "ipython3",
   "version": "3.13.7"
  }
 },
 "nbformat": 4,
 "nbformat_minor": 5
}
